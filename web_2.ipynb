{
  "nbformat": 4,
  "nbformat_minor": 0,
  "metadata": {
    "colab": {
      "provenance": []
    },
    "kernelspec": {
      "name": "python3",
      "display_name": "Python 3"
    },
    "language_info": {
      "name": "python"
    },
    "widgets": {
      "application/vnd.jupyter.widget-state+json": {
        "4758a6abbd2647339063f3309b3015db": {
          "model_module": "@jupyter-widgets/controls",
          "model_name": "HBoxModel",
          "model_module_version": "1.5.0",
          "state": {
            "_dom_classes": [],
            "_model_module": "@jupyter-widgets/controls",
            "_model_module_version": "1.5.0",
            "_model_name": "HBoxModel",
            "_view_count": null,
            "_view_module": "@jupyter-widgets/controls",
            "_view_module_version": "1.5.0",
            "_view_name": "HBoxView",
            "box_style": "",
            "children": [
              "IPY_MODEL_9b2851b2e6924aff93f41b9f67243848",
              "IPY_MODEL_2f0a1c2aa10442448d901ea43480237b",
              "IPY_MODEL_00cf02a0d52d4ac3829faac21f991995"
            ],
            "layout": "IPY_MODEL_3c5c325da01b4681b0ee5b35edbdf299"
          }
        },
        "9b2851b2e6924aff93f41b9f67243848": {
          "model_module": "@jupyter-widgets/controls",
          "model_name": "HTMLModel",
          "model_module_version": "1.5.0",
          "state": {
            "_dom_classes": [],
            "_model_module": "@jupyter-widgets/controls",
            "_model_module_version": "1.5.0",
            "_model_name": "HTMLModel",
            "_view_count": null,
            "_view_module": "@jupyter-widgets/controls",
            "_view_module_version": "1.5.0",
            "_view_name": "HTMLView",
            "description": "",
            "description_tooltip": null,
            "layout": "IPY_MODEL_f45b4fa1dd6a4b82a08aef9a6f4626dd",
            "placeholder": "​",
            "style": "IPY_MODEL_3cd0cb90bfc34e4c8b5b4e05abd64cb8",
            "value": "100%"
          }
        },
        "2f0a1c2aa10442448d901ea43480237b": {
          "model_module": "@jupyter-widgets/controls",
          "model_name": "FloatProgressModel",
          "model_module_version": "1.5.0",
          "state": {
            "_dom_classes": [],
            "_model_module": "@jupyter-widgets/controls",
            "_model_module_version": "1.5.0",
            "_model_name": "FloatProgressModel",
            "_view_count": null,
            "_view_module": "@jupyter-widgets/controls",
            "_view_module_version": "1.5.0",
            "_view_name": "ProgressView",
            "bar_style": "success",
            "description": "",
            "description_tooltip": null,
            "layout": "IPY_MODEL_c9b993a7e71041868b5cc9f120a3d763",
            "max": 35,
            "min": 0,
            "orientation": "horizontal",
            "style": "IPY_MODEL_ffca04c674f644d2a6f1be37e7b53a5e",
            "value": 35
          }
        },
        "00cf02a0d52d4ac3829faac21f991995": {
          "model_module": "@jupyter-widgets/controls",
          "model_name": "HTMLModel",
          "model_module_version": "1.5.0",
          "state": {
            "_dom_classes": [],
            "_model_module": "@jupyter-widgets/controls",
            "_model_module_version": "1.5.0",
            "_model_name": "HTMLModel",
            "_view_count": null,
            "_view_module": "@jupyter-widgets/controls",
            "_view_module_version": "1.5.0",
            "_view_name": "HTMLView",
            "description": "",
            "description_tooltip": null,
            "layout": "IPY_MODEL_9ed54a78502946c0993a442673bb4493",
            "placeholder": "​",
            "style": "IPY_MODEL_337680f67fcb4d5e9a0b9522d9e0d00f",
            "value": " 35/35 [46:25&lt;00:00, 79.22s/it]"
          }
        },
        "3c5c325da01b4681b0ee5b35edbdf299": {
          "model_module": "@jupyter-widgets/base",
          "model_name": "LayoutModel",
          "model_module_version": "1.2.0",
          "state": {
            "_model_module": "@jupyter-widgets/base",
            "_model_module_version": "1.2.0",
            "_model_name": "LayoutModel",
            "_view_count": null,
            "_view_module": "@jupyter-widgets/base",
            "_view_module_version": "1.2.0",
            "_view_name": "LayoutView",
            "align_content": null,
            "align_items": null,
            "align_self": null,
            "border": null,
            "bottom": null,
            "display": null,
            "flex": null,
            "flex_flow": null,
            "grid_area": null,
            "grid_auto_columns": null,
            "grid_auto_flow": null,
            "grid_auto_rows": null,
            "grid_column": null,
            "grid_gap": null,
            "grid_row": null,
            "grid_template_areas": null,
            "grid_template_columns": null,
            "grid_template_rows": null,
            "height": null,
            "justify_content": null,
            "justify_items": null,
            "left": null,
            "margin": null,
            "max_height": null,
            "max_width": null,
            "min_height": null,
            "min_width": null,
            "object_fit": null,
            "object_position": null,
            "order": null,
            "overflow": null,
            "overflow_x": null,
            "overflow_y": null,
            "padding": null,
            "right": null,
            "top": null,
            "visibility": null,
            "width": null
          }
        },
        "f45b4fa1dd6a4b82a08aef9a6f4626dd": {
          "model_module": "@jupyter-widgets/base",
          "model_name": "LayoutModel",
          "model_module_version": "1.2.0",
          "state": {
            "_model_module": "@jupyter-widgets/base",
            "_model_module_version": "1.2.0",
            "_model_name": "LayoutModel",
            "_view_count": null,
            "_view_module": "@jupyter-widgets/base",
            "_view_module_version": "1.2.0",
            "_view_name": "LayoutView",
            "align_content": null,
            "align_items": null,
            "align_self": null,
            "border": null,
            "bottom": null,
            "display": null,
            "flex": null,
            "flex_flow": null,
            "grid_area": null,
            "grid_auto_columns": null,
            "grid_auto_flow": null,
            "grid_auto_rows": null,
            "grid_column": null,
            "grid_gap": null,
            "grid_row": null,
            "grid_template_areas": null,
            "grid_template_columns": null,
            "grid_template_rows": null,
            "height": null,
            "justify_content": null,
            "justify_items": null,
            "left": null,
            "margin": null,
            "max_height": null,
            "max_width": null,
            "min_height": null,
            "min_width": null,
            "object_fit": null,
            "object_position": null,
            "order": null,
            "overflow": null,
            "overflow_x": null,
            "overflow_y": null,
            "padding": null,
            "right": null,
            "top": null,
            "visibility": null,
            "width": null
          }
        },
        "3cd0cb90bfc34e4c8b5b4e05abd64cb8": {
          "model_module": "@jupyter-widgets/controls",
          "model_name": "DescriptionStyleModel",
          "model_module_version": "1.5.0",
          "state": {
            "_model_module": "@jupyter-widgets/controls",
            "_model_module_version": "1.5.0",
            "_model_name": "DescriptionStyleModel",
            "_view_count": null,
            "_view_module": "@jupyter-widgets/base",
            "_view_module_version": "1.2.0",
            "_view_name": "StyleView",
            "description_width": ""
          }
        },
        "c9b993a7e71041868b5cc9f120a3d763": {
          "model_module": "@jupyter-widgets/base",
          "model_name": "LayoutModel",
          "model_module_version": "1.2.0",
          "state": {
            "_model_module": "@jupyter-widgets/base",
            "_model_module_version": "1.2.0",
            "_model_name": "LayoutModel",
            "_view_count": null,
            "_view_module": "@jupyter-widgets/base",
            "_view_module_version": "1.2.0",
            "_view_name": "LayoutView",
            "align_content": null,
            "align_items": null,
            "align_self": null,
            "border": null,
            "bottom": null,
            "display": null,
            "flex": null,
            "flex_flow": null,
            "grid_area": null,
            "grid_auto_columns": null,
            "grid_auto_flow": null,
            "grid_auto_rows": null,
            "grid_column": null,
            "grid_gap": null,
            "grid_row": null,
            "grid_template_areas": null,
            "grid_template_columns": null,
            "grid_template_rows": null,
            "height": null,
            "justify_content": null,
            "justify_items": null,
            "left": null,
            "margin": null,
            "max_height": null,
            "max_width": null,
            "min_height": null,
            "min_width": null,
            "object_fit": null,
            "object_position": null,
            "order": null,
            "overflow": null,
            "overflow_x": null,
            "overflow_y": null,
            "padding": null,
            "right": null,
            "top": null,
            "visibility": null,
            "width": null
          }
        },
        "ffca04c674f644d2a6f1be37e7b53a5e": {
          "model_module": "@jupyter-widgets/controls",
          "model_name": "ProgressStyleModel",
          "model_module_version": "1.5.0",
          "state": {
            "_model_module": "@jupyter-widgets/controls",
            "_model_module_version": "1.5.0",
            "_model_name": "ProgressStyleModel",
            "_view_count": null,
            "_view_module": "@jupyter-widgets/base",
            "_view_module_version": "1.2.0",
            "_view_name": "StyleView",
            "bar_color": null,
            "description_width": ""
          }
        },
        "9ed54a78502946c0993a442673bb4493": {
          "model_module": "@jupyter-widgets/base",
          "model_name": "LayoutModel",
          "model_module_version": "1.2.0",
          "state": {
            "_model_module": "@jupyter-widgets/base",
            "_model_module_version": "1.2.0",
            "_model_name": "LayoutModel",
            "_view_count": null,
            "_view_module": "@jupyter-widgets/base",
            "_view_module_version": "1.2.0",
            "_view_name": "LayoutView",
            "align_content": null,
            "align_items": null,
            "align_self": null,
            "border": null,
            "bottom": null,
            "display": null,
            "flex": null,
            "flex_flow": null,
            "grid_area": null,
            "grid_auto_columns": null,
            "grid_auto_flow": null,
            "grid_auto_rows": null,
            "grid_column": null,
            "grid_gap": null,
            "grid_row": null,
            "grid_template_areas": null,
            "grid_template_columns": null,
            "grid_template_rows": null,
            "height": null,
            "justify_content": null,
            "justify_items": null,
            "left": null,
            "margin": null,
            "max_height": null,
            "max_width": null,
            "min_height": null,
            "min_width": null,
            "object_fit": null,
            "object_position": null,
            "order": null,
            "overflow": null,
            "overflow_x": null,
            "overflow_y": null,
            "padding": null,
            "right": null,
            "top": null,
            "visibility": null,
            "width": null
          }
        },
        "337680f67fcb4d5e9a0b9522d9e0d00f": {
          "model_module": "@jupyter-widgets/controls",
          "model_name": "DescriptionStyleModel",
          "model_module_version": "1.5.0",
          "state": {
            "_model_module": "@jupyter-widgets/controls",
            "_model_module_version": "1.5.0",
            "_model_name": "DescriptionStyleModel",
            "_view_count": null,
            "_view_module": "@jupyter-widgets/base",
            "_view_module_version": "1.2.0",
            "_view_name": "StyleView",
            "description_width": ""
          }
        },
        "3ced15d8ece04a768bfe0f5ec6009f90": {
          "model_module": "@jupyter-widgets/controls",
          "model_name": "HBoxModel",
          "model_module_version": "1.5.0",
          "state": {
            "_dom_classes": [],
            "_model_module": "@jupyter-widgets/controls",
            "_model_module_version": "1.5.0",
            "_model_name": "HBoxModel",
            "_view_count": null,
            "_view_module": "@jupyter-widgets/controls",
            "_view_module_version": "1.5.0",
            "_view_name": "HBoxView",
            "box_style": "",
            "children": [
              "IPY_MODEL_d3d261270023488ebafc4511d4ce1f05",
              "IPY_MODEL_736ff2a7579b4ca8ba00d28c2b523ed5",
              "IPY_MODEL_8355add602a94de0ad55c6099b8b8b5a"
            ],
            "layout": "IPY_MODEL_af0e4a79fe83466ca0c965665d5541cd"
          }
        },
        "d3d261270023488ebafc4511d4ce1f05": {
          "model_module": "@jupyter-widgets/controls",
          "model_name": "HTMLModel",
          "model_module_version": "1.5.0",
          "state": {
            "_dom_classes": [],
            "_model_module": "@jupyter-widgets/controls",
            "_model_module_version": "1.5.0",
            "_model_name": "HTMLModel",
            "_view_count": null,
            "_view_module": "@jupyter-widgets/controls",
            "_view_module_version": "1.5.0",
            "_view_name": "HTMLView",
            "description": "",
            "description_tooltip": null,
            "layout": "IPY_MODEL_cdc8fc2ad3414045a0c4b3ea60a01f84",
            "placeholder": "​",
            "style": "IPY_MODEL_1514487c5cef4fc889fb43e64a9a5c5f",
            "value": "100%"
          }
        },
        "736ff2a7579b4ca8ba00d28c2b523ed5": {
          "model_module": "@jupyter-widgets/controls",
          "model_name": "FloatProgressModel",
          "model_module_version": "1.5.0",
          "state": {
            "_dom_classes": [],
            "_model_module": "@jupyter-widgets/controls",
            "_model_module_version": "1.5.0",
            "_model_name": "FloatProgressModel",
            "_view_count": null,
            "_view_module": "@jupyter-widgets/controls",
            "_view_module_version": "1.5.0",
            "_view_name": "ProgressView",
            "bar_style": "success",
            "description": "",
            "description_tooltip": null,
            "layout": "IPY_MODEL_eec4a8e87fc140b2826a61df4a29e761",
            "max": 5471,
            "min": 0,
            "orientation": "horizontal",
            "style": "IPY_MODEL_af329b932d6a46f0b65fc77dbe7f2e73",
            "value": 5471
          }
        },
        "8355add602a94de0ad55c6099b8b8b5a": {
          "model_module": "@jupyter-widgets/controls",
          "model_name": "HTMLModel",
          "model_module_version": "1.5.0",
          "state": {
            "_dom_classes": [],
            "_model_module": "@jupyter-widgets/controls",
            "_model_module_version": "1.5.0",
            "_model_name": "HTMLModel",
            "_view_count": null,
            "_view_module": "@jupyter-widgets/controls",
            "_view_module_version": "1.5.0",
            "_view_name": "HTMLView",
            "description": "",
            "description_tooltip": null,
            "layout": "IPY_MODEL_250f98bed9fa472bad824ab85ba9d192",
            "placeholder": "​",
            "style": "IPY_MODEL_4366fb14ee1846e2a21a0e7df068bc6d",
            "value": " 5471/5471 [17:16&lt;00:00,  2.53it/s]"
          }
        },
        "af0e4a79fe83466ca0c965665d5541cd": {
          "model_module": "@jupyter-widgets/base",
          "model_name": "LayoutModel",
          "model_module_version": "1.2.0",
          "state": {
            "_model_module": "@jupyter-widgets/base",
            "_model_module_version": "1.2.0",
            "_model_name": "LayoutModel",
            "_view_count": null,
            "_view_module": "@jupyter-widgets/base",
            "_view_module_version": "1.2.0",
            "_view_name": "LayoutView",
            "align_content": null,
            "align_items": null,
            "align_self": null,
            "border": null,
            "bottom": null,
            "display": null,
            "flex": null,
            "flex_flow": null,
            "grid_area": null,
            "grid_auto_columns": null,
            "grid_auto_flow": null,
            "grid_auto_rows": null,
            "grid_column": null,
            "grid_gap": null,
            "grid_row": null,
            "grid_template_areas": null,
            "grid_template_columns": null,
            "grid_template_rows": null,
            "height": null,
            "justify_content": null,
            "justify_items": null,
            "left": null,
            "margin": null,
            "max_height": null,
            "max_width": null,
            "min_height": null,
            "min_width": null,
            "object_fit": null,
            "object_position": null,
            "order": null,
            "overflow": null,
            "overflow_x": null,
            "overflow_y": null,
            "padding": null,
            "right": null,
            "top": null,
            "visibility": null,
            "width": null
          }
        },
        "cdc8fc2ad3414045a0c4b3ea60a01f84": {
          "model_module": "@jupyter-widgets/base",
          "model_name": "LayoutModel",
          "model_module_version": "1.2.0",
          "state": {
            "_model_module": "@jupyter-widgets/base",
            "_model_module_version": "1.2.0",
            "_model_name": "LayoutModel",
            "_view_count": null,
            "_view_module": "@jupyter-widgets/base",
            "_view_module_version": "1.2.0",
            "_view_name": "LayoutView",
            "align_content": null,
            "align_items": null,
            "align_self": null,
            "border": null,
            "bottom": null,
            "display": null,
            "flex": null,
            "flex_flow": null,
            "grid_area": null,
            "grid_auto_columns": null,
            "grid_auto_flow": null,
            "grid_auto_rows": null,
            "grid_column": null,
            "grid_gap": null,
            "grid_row": null,
            "grid_template_areas": null,
            "grid_template_columns": null,
            "grid_template_rows": null,
            "height": null,
            "justify_content": null,
            "justify_items": null,
            "left": null,
            "margin": null,
            "max_height": null,
            "max_width": null,
            "min_height": null,
            "min_width": null,
            "object_fit": null,
            "object_position": null,
            "order": null,
            "overflow": null,
            "overflow_x": null,
            "overflow_y": null,
            "padding": null,
            "right": null,
            "top": null,
            "visibility": null,
            "width": null
          }
        },
        "1514487c5cef4fc889fb43e64a9a5c5f": {
          "model_module": "@jupyter-widgets/controls",
          "model_name": "DescriptionStyleModel",
          "model_module_version": "1.5.0",
          "state": {
            "_model_module": "@jupyter-widgets/controls",
            "_model_module_version": "1.5.0",
            "_model_name": "DescriptionStyleModel",
            "_view_count": null,
            "_view_module": "@jupyter-widgets/base",
            "_view_module_version": "1.2.0",
            "_view_name": "StyleView",
            "description_width": ""
          }
        },
        "eec4a8e87fc140b2826a61df4a29e761": {
          "model_module": "@jupyter-widgets/base",
          "model_name": "LayoutModel",
          "model_module_version": "1.2.0",
          "state": {
            "_model_module": "@jupyter-widgets/base",
            "_model_module_version": "1.2.0",
            "_model_name": "LayoutModel",
            "_view_count": null,
            "_view_module": "@jupyter-widgets/base",
            "_view_module_version": "1.2.0",
            "_view_name": "LayoutView",
            "align_content": null,
            "align_items": null,
            "align_self": null,
            "border": null,
            "bottom": null,
            "display": null,
            "flex": null,
            "flex_flow": null,
            "grid_area": null,
            "grid_auto_columns": null,
            "grid_auto_flow": null,
            "grid_auto_rows": null,
            "grid_column": null,
            "grid_gap": null,
            "grid_row": null,
            "grid_template_areas": null,
            "grid_template_columns": null,
            "grid_template_rows": null,
            "height": null,
            "justify_content": null,
            "justify_items": null,
            "left": null,
            "margin": null,
            "max_height": null,
            "max_width": null,
            "min_height": null,
            "min_width": null,
            "object_fit": null,
            "object_position": null,
            "order": null,
            "overflow": null,
            "overflow_x": null,
            "overflow_y": null,
            "padding": null,
            "right": null,
            "top": null,
            "visibility": null,
            "width": null
          }
        },
        "af329b932d6a46f0b65fc77dbe7f2e73": {
          "model_module": "@jupyter-widgets/controls",
          "model_name": "ProgressStyleModel",
          "model_module_version": "1.5.0",
          "state": {
            "_model_module": "@jupyter-widgets/controls",
            "_model_module_version": "1.5.0",
            "_model_name": "ProgressStyleModel",
            "_view_count": null,
            "_view_module": "@jupyter-widgets/base",
            "_view_module_version": "1.2.0",
            "_view_name": "StyleView",
            "bar_color": null,
            "description_width": ""
          }
        },
        "250f98bed9fa472bad824ab85ba9d192": {
          "model_module": "@jupyter-widgets/base",
          "model_name": "LayoutModel",
          "model_module_version": "1.2.0",
          "state": {
            "_model_module": "@jupyter-widgets/base",
            "_model_module_version": "1.2.0",
            "_model_name": "LayoutModel",
            "_view_count": null,
            "_view_module": "@jupyter-widgets/base",
            "_view_module_version": "1.2.0",
            "_view_name": "LayoutView",
            "align_content": null,
            "align_items": null,
            "align_self": null,
            "border": null,
            "bottom": null,
            "display": null,
            "flex": null,
            "flex_flow": null,
            "grid_area": null,
            "grid_auto_columns": null,
            "grid_auto_flow": null,
            "grid_auto_rows": null,
            "grid_column": null,
            "grid_gap": null,
            "grid_row": null,
            "grid_template_areas": null,
            "grid_template_columns": null,
            "grid_template_rows": null,
            "height": null,
            "justify_content": null,
            "justify_items": null,
            "left": null,
            "margin": null,
            "max_height": null,
            "max_width": null,
            "min_height": null,
            "min_width": null,
            "object_fit": null,
            "object_position": null,
            "order": null,
            "overflow": null,
            "overflow_x": null,
            "overflow_y": null,
            "padding": null,
            "right": null,
            "top": null,
            "visibility": null,
            "width": null
          }
        },
        "4366fb14ee1846e2a21a0e7df068bc6d": {
          "model_module": "@jupyter-widgets/controls",
          "model_name": "DescriptionStyleModel",
          "model_module_version": "1.5.0",
          "state": {
            "_model_module": "@jupyter-widgets/controls",
            "_model_module_version": "1.5.0",
            "_model_name": "DescriptionStyleModel",
            "_view_count": null,
            "_view_module": "@jupyter-widgets/base",
            "_view_module_version": "1.2.0",
            "_view_name": "StyleView",
            "description_width": ""
          }
        }
      }
    }
  },
  "cells": [
    {
      "cell_type": "code",
      "source": [
        "!pip install fake_useragent"
      ],
      "metadata": {
        "colab": {
          "base_uri": "https://localhost:8080/"
        },
        "id": "dO5k-7lyneYJ",
        "outputId": "9a92c550-12d6-468c-de83-19f4432c1adf"
      },
      "execution_count": null,
      "outputs": [
        {
          "output_type": "stream",
          "name": "stdout",
          "text": [
            "Collecting fake_useragent\n",
            "  Downloading fake_useragent-1.4.0-py3-none-any.whl (15 kB)\n",
            "Installing collected packages: fake_useragent\n",
            "Successfully installed fake_useragent-1.4.0\n"
          ]
        }
      ]
    },
    {
      "cell_type": "code",
      "source": [
        "import requests\n",
        "from bs4 import BeautifulSoup\n",
        "import re\n",
        "from fake_useragent import UserAgent\n",
        "from tqdm.auto import tqdm\n",
        "import pandas as pd\n",
        "import numpy as np"
      ],
      "metadata": {
        "id": "FryngAa8njS8"
      },
      "execution_count": null,
      "outputs": []
    },
    {
      "cell_type": "code",
      "source": [
        "ua = UserAgent()\n",
        "session = requests.session()"
      ],
      "metadata": {
        "id": "CVsLdr33nW4-"
      },
      "execution_count": null,
      "outputs": []
    },
    {
      "cell_type": "code",
      "source": [
        "def parse_one_article(block):\n",
        "\n",
        "    # создаем запрос для отдельной страницы с рецептом\n",
        "\n",
        "    req = session.get(block['ссылка на статью'],\n",
        "                      headers={'User-Agent': ua.random})\n",
        "    page = req.text\n",
        "\n",
        "    # парсим страницу\n",
        "    try:\n",
        "\n",
        "        soup = BeautifulSoup(page, 'html.parser')\n",
        "        text = soup.get_text()\n",
        "\n",
        "    # проверяем наличие слова \"калорийность\" в тексте\n",
        "        if 'ккал' in text:\n",
        "\n",
        "            block['калорийность (ккал)'] = int(soup.find('span',\n",
        "                                                        {'itemprop':\n",
        "                                                        'calories'}).text)\n",
        "            block['белки (г)'] = int(soup.find('span',\n",
        "                                            {'id': 'nutr_p'}).text)\n",
        "            block['жиры (г)'] = int(soup.find('span',\n",
        "                                            {'id':'nutr_f'}).text)\n",
        "            block['углеводы (г)'] = int(soup.find('span',\n",
        "                                                {'id':\n",
        "                                                'nutr_c'}).text)\n",
        "            ingredients = soup.find_all('div', class_='ingredient list-item')\n",
        "\n",
        "            block['ингредиенты'] = []\n",
        "            for ingredient_element in ingredients:\n",
        "                ingredient = ingredient_element.find(\n",
        "                    'meta', itemprop='recipeIngredient')['content']\n",
        "                ingredient = ingredient.split(' - ')[0]\n",
        "                block['ингредиенты'].append(ingredient)\n",
        "\n",
        "    # поскольку текст рецепта разбит по блокам, то перед добавлением\n",
        "    # в датафрейм необходимо собрать его части в одну строку, при этом почистив\n",
        "    # части от личшних пробелов и переносов строк.\n",
        "\n",
        "            block['рецепт'] = []\n",
        "            recipe = soup.find_all('p', {'class': 'instruction'})\n",
        "            for step in recipe:\n",
        "                block['рецепт'].append(step.text)\n",
        "            block['рецепт'] = ' '.join(block['рецепт'])\n",
        "\n",
        "    except Exception:\n",
        "        pass\n",
        "\n",
        "    return block\n"
      ],
      "metadata": {
        "id": "EUfI0fmS5c12"
      },
      "execution_count": null,
      "outputs": []
    },
    {
      "cell_type": "code",
      "source": [
        "def get_nth_page(page_number):\n",
        "\n",
        "    # создаем запрос для страницы с рецептами\n",
        "\n",
        "    url = f'https://1000.menu/catalog/bjstro-i-vkusno/{page_number}'\n",
        "    req = session.get(url, headers={'User-Agent': ua.random})\n",
        "    page = req.text\n",
        "\n",
        "    # парсим страницу\n",
        "\n",
        "    soup = BeautifulSoup(page, 'html.parser')\n",
        "    news = soup.find_all('div', {'class': 'info-preview'})\n",
        "\n",
        "    # создаем список blocks, где будут храниться все собранные данные\n",
        "\n",
        "    blocks = []\n",
        "\n",
        "    for n in news:\n",
        "        try:\n",
        "            blocks.append(parse_news_page_block(n))\n",
        "        except Exception as e:\n",
        "                pass\n",
        "\n",
        "    return blocks"
      ],
      "metadata": {
        "id": "MOsMYTfy7e4j"
      },
      "execution_count": null,
      "outputs": []
    },
    {
      "cell_type": "code",
      "source": [
        "def parse_news_page_block(one_block):\n",
        "\n",
        "    # со страницы с рецептами собираются данные\n",
        "    # для каждого поста и добавляются в словарь block\n",
        "\n",
        "    block = {}\n",
        "\n",
        "    title_obj = one_block.find('a', class_='h5')\n",
        "    block['название статьи'] = title_obj.text\n",
        "    link = one_block.find('a', class_='h5')['href']\n",
        "    block['ссылка на статью'] = f\"https://1000.menu{link}\"\n",
        "\n",
        "    return parse_one_article(block)\n"
      ],
      "metadata": {
        "id": "BSB3jiqlntcK"
      },
      "execution_count": null,
      "outputs": []
    },
    {
      "cell_type": "code",
      "source": [
        "def run_all(n):\n",
        "\n",
        "    blocks = []\n",
        "    for i in tqdm(range(n)):\n",
        "        blocks.extend(get_nth_page(i))\n",
        "\n",
        "    return blocks"
      ],
      "metadata": {
        "id": "lRUDrrXKoC5s"
      },
      "execution_count": null,
      "outputs": []
    },
    {
      "cell_type": "code",
      "source": [
        "blocks = run_all(35)"
      ],
      "metadata": {
        "colab": {
          "base_uri": "https://localhost:8080/",
          "height": 49,
          "referenced_widgets": [
            "4758a6abbd2647339063f3309b3015db",
            "9b2851b2e6924aff93f41b9f67243848",
            "2f0a1c2aa10442448d901ea43480237b",
            "00cf02a0d52d4ac3829faac21f991995",
            "3c5c325da01b4681b0ee5b35edbdf299",
            "f45b4fa1dd6a4b82a08aef9a6f4626dd",
            "3cd0cb90bfc34e4c8b5b4e05abd64cb8",
            "c9b993a7e71041868b5cc9f120a3d763",
            "ffca04c674f644d2a6f1be37e7b53a5e",
            "9ed54a78502946c0993a442673bb4493",
            "337680f67fcb4d5e9a0b9522d9e0d00f"
          ]
        },
        "id": "TZcnd8SNZ_go",
        "outputId": "7cc5535b-f51d-45a9-e4d3-e508a0f82696"
      },
      "execution_count": null,
      "outputs": [
        {
          "output_type": "display_data",
          "data": {
            "text/plain": [
              "  0%|          | 0/35 [00:00<?, ?it/s]"
            ],
            "application/vnd.jupyter.widget-view+json": {
              "version_major": 2,
              "version_minor": 0,
              "model_id": "4758a6abbd2647339063f3309b3015db"
            }
          },
          "metadata": {}
        }
      ]
    },
    {
      "cell_type": "code",
      "source": [
        "new = pd.DataFrame(blocks)\n",
        "new = new.dropna(subset=['ингредиенты'])"
      ],
      "metadata": {
        "id": "Cn1GmYi_X_Ri"
      },
      "execution_count": null,
      "outputs": []
    },
    {
      "cell_type": "code",
      "source": [
        "new = new[new['ингредиенты'].apply(lambda x: len(x) > 0)]"
      ],
      "metadata": {
        "id": "AGTmJNIa7lJg"
      },
      "execution_count": null,
      "outputs": []
    },
    {
      "cell_type": "code",
      "source": [
        "user_agent = UserAgent()\n",
        "\n",
        "# некоторые рецепты были записаны иначе, чтобы их не потерять, пришлось пройти еще раз\n",
        "# по датафрейму и заполнить ячейки с текстами рецептов\n",
        "\n",
        "for index, row in tqdm(new.iterrows(), total=len(new)):\n",
        "    if row['рецепт'] == '' or pd.isnull(row['рецепт']):\n",
        "        response = requests.get(row['ссылка на статью'], headers={'User-Agent': user_agent.random})\n",
        "        soup = BeautifulSoup(response.text, 'html.parser')\n",
        "\n",
        "        try:\n",
        "            post = soup.find('div', {'class': 'instructions'}).text\n",
        "            new.at[index, 'рецепт'] = post\n",
        "        except Exception:\n",
        "            pass\n",
        "\n"
      ],
      "metadata": {
        "colab": {
          "base_uri": "https://localhost:8080/",
          "height": 49,
          "referenced_widgets": [
            "3ced15d8ece04a768bfe0f5ec6009f90",
            "d3d261270023488ebafc4511d4ce1f05",
            "736ff2a7579b4ca8ba00d28c2b523ed5",
            "8355add602a94de0ad55c6099b8b8b5a",
            "af0e4a79fe83466ca0c965665d5541cd",
            "cdc8fc2ad3414045a0c4b3ea60a01f84",
            "1514487c5cef4fc889fb43e64a9a5c5f",
            "eec4a8e87fc140b2826a61df4a29e761",
            "af329b932d6a46f0b65fc77dbe7f2e73",
            "250f98bed9fa472bad824ab85ba9d192",
            "4366fb14ee1846e2a21a0e7df068bc6d"
          ]
        },
        "id": "UpwVRwymdFmy",
        "outputId": "b182528e-f5ea-4461-d7ee-e78380a8eb75"
      },
      "execution_count": null,
      "outputs": [
        {
          "output_type": "display_data",
          "data": {
            "text/plain": [
              "  0%|          | 0/5471 [00:00<?, ?it/s]"
            ],
            "application/vnd.jupyter.widget-view+json": {
              "version_major": 2,
              "version_minor": 0,
              "model_id": "3ced15d8ece04a768bfe0f5ec6009f90"
            }
          },
          "metadata": {}
        }
      ]
    },
    {
      "cell_type": "code",
      "source": [
        "part_1 = pd.read_csv(\"my_recipes.csv\")"
      ],
      "metadata": {
        "id": "3OTU1BGz2rLA"
      },
      "execution_count": null,
      "outputs": []
    },
    {
      "cell_type": "code",
      "source": [
        "# соединяем полученный датафрейм с данными из первого краулера\n",
        "data = pd.concat([part_1, new])"
      ],
      "metadata": {
        "id": "2_YHEqWn2yWX"
      },
      "execution_count": null,
      "outputs": []
    },
    {
      "cell_type": "code",
      "source": [
        "data.to_csv('/content/my_recipes_data.csv')"
      ],
      "metadata": {
        "id": "Ymo7djdXBz-Z"
      },
      "execution_count": null,
      "outputs": []
    }
  ]
}